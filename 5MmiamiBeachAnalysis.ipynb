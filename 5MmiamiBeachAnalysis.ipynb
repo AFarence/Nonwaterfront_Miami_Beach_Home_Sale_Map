{
 "cells": [
  {
   "cell_type": "code",
   "execution_count": 1,
   "metadata": {},
   "outputs": [],
   "source": [
    "from geopy.geocoders import GoogleV3\n",
    "import numpy as np\n",
    "import geocoder\n",
    "import json\n",
    "import pandas as pd\n",
    "from geojson import Feature, FeatureCollection, Point"
   ]
  },
  {
   "cell_type": "markdown",
   "metadata": {},
   "source": [
    "Geocode and mapping tutorial\n",
    "\n",
    "- https://towardsdatascience.com/pythons-geocoding-convert-a-list-of-addresses-into-a-map-f522ef513fd6#5352\n",
    "\n",
    "How to hide API keys in Python\n",
    "\n",
    "- https://medium.com/black-tech-diva/hide-your-api-keys-7635e181a06c\n",
    "\n",
    "And in general\n",
    "\n",
    "- https://stackoverflow.com/questions/44342276/how-to-push-code-to-github-hiding-the-api-keys"
   ]
  },
  {
   "cell_type": "code",
   "execution_count": 2,
   "metadata": {},
   "outputs": [],
   "source": [
    "%store -r google_maps_API_Key\n",
    "\n",
    "geolocator = GoogleV3(api_key=google_maps_API_Key)"
   ]
  },
  {
   "cell_type": "code",
   "execution_count": 7,
   "metadata": {},
   "outputs": [],
   "source": [
    "### In this cell, I need to create my DF ###\n",
    "\n",
    "data = {\n",
    "    'address':['4535 Nautilus Court, Miami Beach, FL','2035 North Meridian Avenue, Miami Beach, FL','2211 Meridian Avenue, Miami Beach, FL','254 Palm Avenue, Miami Beach, FL'],\n",
    "    'buyer':['Bryant Yunker Jr. and Nancy Yunker','Allon and Allison Bloch','Zachi and Ekaterina Wainstein','David Gebbia'],\n",
    "    'seller':['Orlandus Andre Branch III','2035 Meridian LLC','Sabal Development',''],\n",
    "    'sale_price_s':['$6.3M','$5M','$5.5M'],\n",
    "    'sale_price_int':[6300000,5000000,5500000]\n",
    "}\n",
    "\n",
    "df = pd.DataFrame(data)"
   ]
  },
  {
   "cell_type": "code",
   "execution_count": 8,
   "metadata": {},
   "outputs": [
    {
     "data": {
      "text/plain": [
       "0    (4535 Nautilus Ct, Miami Beach, FL 33140, USA,...\n",
       "1    (2035 Meridian Ave, Miami Beach, FL 33139, USA...\n",
       "2    (2211 Meridian Ave, Miami Beach, FL 33139, USA...\n",
       "Name: loc, dtype: object"
      ]
     },
     "execution_count": 8,
     "metadata": {},
     "output_type": "execute_result"
    }
   ],
   "source": [
    "df['loc'] = df['address'].apply(geolocator.geocode, timeout=10)\n",
    "df['loc']"
   ]
  },
  {
   "cell_type": "code",
   "execution_count": 9,
   "metadata": {},
   "outputs": [],
   "source": [
    "df['point'] = df['loc'].apply(lambda loc: tuple(loc.point) if loc else None)\n",
    "df[['lat','lon','altitude']] = pd.DataFrame(df['point'].to_list(),index=df.index)"
   ]
  },
  {
   "cell_type": "code",
   "execution_count": 10,
   "metadata": {},
   "outputs": [
    {
     "data": {
      "text/html": [
       "<div>\n",
       "<style scoped>\n",
       "    .dataframe tbody tr th:only-of-type {\n",
       "        vertical-align: middle;\n",
       "    }\n",
       "\n",
       "    .dataframe tbody tr th {\n",
       "        vertical-align: top;\n",
       "    }\n",
       "\n",
       "    .dataframe thead th {\n",
       "        text-align: right;\n",
       "    }\n",
       "</style>\n",
       "<table border=\"1\" class=\"dataframe\">\n",
       "  <thead>\n",
       "    <tr style=\"text-align: right;\">\n",
       "      <th></th>\n",
       "      <th>address</th>\n",
       "      <th>buyer</th>\n",
       "      <th>seller</th>\n",
       "      <th>sale_price_s</th>\n",
       "      <th>sale_price_int</th>\n",
       "      <th>loc</th>\n",
       "      <th>point</th>\n",
       "      <th>lat</th>\n",
       "      <th>lon</th>\n",
       "      <th>altitude</th>\n",
       "    </tr>\n",
       "  </thead>\n",
       "  <tbody>\n",
       "    <tr>\n",
       "      <th>0</th>\n",
       "      <td>4535 Nautilus Court, Miami Beach, FL</td>\n",
       "      <td>Bryant Yunker Jr. and Nancy Yunker</td>\n",
       "      <td>Orlandus Andre Branch III</td>\n",
       "      <td>$6.3M</td>\n",
       "      <td>6300000</td>\n",
       "      <td>(4535 Nautilus Ct, Miami Beach, FL 33140, USA,...</td>\n",
       "      <td>(25.8201721, -80.13459329999999, 0.0)</td>\n",
       "      <td>25.820172</td>\n",
       "      <td>-80.134593</td>\n",
       "      <td>0.0</td>\n",
       "    </tr>\n",
       "    <tr>\n",
       "      <th>1</th>\n",
       "      <td>2035 North Meridian Avenue, Miami Beach, FL</td>\n",
       "      <td>Allon and Allison Bloch</td>\n",
       "      <td>2035 Meridian LLC</td>\n",
       "      <td>$5M</td>\n",
       "      <td>5000000</td>\n",
       "      <td>(2035 Meridian Ave, Miami Beach, FL 33139, USA...</td>\n",
       "      <td>(25.7976922, -80.13559649999999, 0.0)</td>\n",
       "      <td>25.797692</td>\n",
       "      <td>-80.135596</td>\n",
       "      <td>0.0</td>\n",
       "    </tr>\n",
       "    <tr>\n",
       "      <th>2</th>\n",
       "      <td>2211 Meridian Avenue, Miami Beach, FL</td>\n",
       "      <td>Zachi and Ekaterina Wainstein</td>\n",
       "      <td>Sabal Development</td>\n",
       "      <td>$5.5M</td>\n",
       "      <td>5500000</td>\n",
       "      <td>(2211 Meridian Ave, Miami Beach, FL 33139, USA...</td>\n",
       "      <td>(25.7996423, -80.1346805, 0.0)</td>\n",
       "      <td>25.799642</td>\n",
       "      <td>-80.134681</td>\n",
       "      <td>0.0</td>\n",
       "    </tr>\n",
       "  </tbody>\n",
       "</table>\n",
       "</div>"
      ],
      "text/plain": [
       "                                       address  \\\n",
       "0         4535 Nautilus Court, Miami Beach, FL   \n",
       "1  2035 North Meridian Avenue, Miami Beach, FL   \n",
       "2        2211 Meridian Avenue, Miami Beach, FL   \n",
       "\n",
       "                                buyer                     seller sale_price_s  \\\n",
       "0  Bryant Yunker Jr. and Nancy Yunker  Orlandus Andre Branch III        $6.3M   \n",
       "1             Allon and Allison Bloch          2035 Meridian LLC          $5M   \n",
       "2       Zachi and Ekaterina Wainstein          Sabal Development        $5.5M   \n",
       "\n",
       "   sale_price_int                                                loc  \\\n",
       "0         6300000  (4535 Nautilus Ct, Miami Beach, FL 33140, USA,...   \n",
       "1         5000000  (2035 Meridian Ave, Miami Beach, FL 33139, USA...   \n",
       "2         5500000  (2211 Meridian Ave, Miami Beach, FL 33139, USA...   \n",
       "\n",
       "                                   point        lat        lon  altitude  \n",
       "0  (25.8201721, -80.13459329999999, 0.0)  25.820172 -80.134593       0.0  \n",
       "1  (25.7976922, -80.13559649999999, 0.0)  25.797692 -80.135596       0.0  \n",
       "2         (25.7996423, -80.1346805, 0.0)  25.799642 -80.134681       0.0  "
      ]
     },
     "execution_count": 10,
     "metadata": {},
     "output_type": "execute_result"
    }
   ],
   "source": [
    "df"
   ]
  },
  {
   "cell_type": "code",
   "execution_count": 11,
   "metadata": {},
   "outputs": [
    {
     "data": {
      "text/html": [
       "<div style=\"width:100%;\"><div style=\"position:relative;width:100%;height:0;padding-bottom:60%;\"><span style=\"color:#565656\">Make this Notebook Trusted to load map: File -> Trust Notebook</span><iframe src=\"about:blank\" style=\"position:absolute;width:100%;height:100%;left:0;top:0;border:none !important;\" data-html=%3C%21DOCTYPE%20html%3E%0A%3Chead%3E%20%20%20%20%0A%20%20%20%20%3Cmeta%20http-equiv%3D%22content-type%22%20content%3D%22text/html%3B%20charset%3DUTF-8%22%20/%3E%0A%20%20%20%20%0A%20%20%20%20%20%20%20%20%3Cscript%3E%0A%20%20%20%20%20%20%20%20%20%20%20%20L_NO_TOUCH%20%3D%20false%3B%0A%20%20%20%20%20%20%20%20%20%20%20%20L_DISABLE_3D%20%3D%20false%3B%0A%20%20%20%20%20%20%20%20%3C/script%3E%0A%20%20%20%20%0A%20%20%20%20%3Cstyle%3Ehtml%2C%20body%20%7Bwidth%3A%20100%25%3Bheight%3A%20100%25%3Bmargin%3A%200%3Bpadding%3A%200%3B%7D%3C/style%3E%0A%20%20%20%20%3Cstyle%3E%23map%20%7Bposition%3Aabsolute%3Btop%3A0%3Bbottom%3A0%3Bright%3A0%3Bleft%3A0%3B%7D%3C/style%3E%0A%20%20%20%20%3Cscript%20src%3D%22https%3A//cdn.jsdelivr.net/npm/leaflet%401.6.0/dist/leaflet.js%22%3E%3C/script%3E%0A%20%20%20%20%3Cscript%20src%3D%22https%3A//code.jquery.com/jquery-1.12.4.min.js%22%3E%3C/script%3E%0A%20%20%20%20%3Cscript%20src%3D%22https%3A//maxcdn.bootstrapcdn.com/bootstrap/3.2.0/js/bootstrap.min.js%22%3E%3C/script%3E%0A%20%20%20%20%3Cscript%20src%3D%22https%3A//cdnjs.cloudflare.com/ajax/libs/Leaflet.awesome-markers/2.0.2/leaflet.awesome-markers.js%22%3E%3C/script%3E%0A%20%20%20%20%3Clink%20rel%3D%22stylesheet%22%20href%3D%22https%3A//cdn.jsdelivr.net/npm/leaflet%401.6.0/dist/leaflet.css%22/%3E%0A%20%20%20%20%3Clink%20rel%3D%22stylesheet%22%20href%3D%22https%3A//maxcdn.bootstrapcdn.com/bootstrap/3.2.0/css/bootstrap.min.css%22/%3E%0A%20%20%20%20%3Clink%20rel%3D%22stylesheet%22%20href%3D%22https%3A//maxcdn.bootstrapcdn.com/bootstrap/3.2.0/css/bootstrap-theme.min.css%22/%3E%0A%20%20%20%20%3Clink%20rel%3D%22stylesheet%22%20href%3D%22https%3A//maxcdn.bootstrapcdn.com/font-awesome/4.6.3/css/font-awesome.min.css%22/%3E%0A%20%20%20%20%3Clink%20rel%3D%22stylesheet%22%20href%3D%22https%3A//cdnjs.cloudflare.com/ajax/libs/Leaflet.awesome-markers/2.0.2/leaflet.awesome-markers.css%22/%3E%0A%20%20%20%20%3Clink%20rel%3D%22stylesheet%22%20href%3D%22https%3A//cdn.jsdelivr.net/gh/python-visualization/folium/folium/templates/leaflet.awesome.rotate.min.css%22/%3E%0A%20%20%20%20%0A%20%20%20%20%20%20%20%20%20%20%20%20%3Cmeta%20name%3D%22viewport%22%20content%3D%22width%3Ddevice-width%2C%0A%20%20%20%20%20%20%20%20%20%20%20%20%20%20%20%20initial-scale%3D1.0%2C%20maximum-scale%3D1.0%2C%20user-scalable%3Dno%22%20/%3E%0A%20%20%20%20%20%20%20%20%20%20%20%20%3Cstyle%3E%0A%20%20%20%20%20%20%20%20%20%20%20%20%20%20%20%20%23map_d35ea90a8dcb444c9231fb8decd26357%20%7B%0A%20%20%20%20%20%20%20%20%20%20%20%20%20%20%20%20%20%20%20%20position%3A%20relative%3B%0A%20%20%20%20%20%20%20%20%20%20%20%20%20%20%20%20%20%20%20%20width%3A%20100.0%25%3B%0A%20%20%20%20%20%20%20%20%20%20%20%20%20%20%20%20%20%20%20%20height%3A%20100.0%25%3B%0A%20%20%20%20%20%20%20%20%20%20%20%20%20%20%20%20%20%20%20%20left%3A%200.0%25%3B%0A%20%20%20%20%20%20%20%20%20%20%20%20%20%20%20%20%20%20%20%20top%3A%200.0%25%3B%0A%20%20%20%20%20%20%20%20%20%20%20%20%20%20%20%20%7D%0A%20%20%20%20%20%20%20%20%20%20%20%20%3C/style%3E%0A%20%20%20%20%20%20%20%20%0A%20%20%20%20%3Cscript%20src%3D%22https%3A//cdnjs.cloudflare.com/ajax/libs/leaflet.markercluster/1.1.0/leaflet.markercluster.js%22%3E%3C/script%3E%0A%20%20%20%20%3Clink%20rel%3D%22stylesheet%22%20href%3D%22https%3A//cdnjs.cloudflare.com/ajax/libs/leaflet.markercluster/1.1.0/MarkerCluster.css%22/%3E%0A%20%20%20%20%3Clink%20rel%3D%22stylesheet%22%20href%3D%22https%3A//cdnjs.cloudflare.com/ajax/libs/leaflet.markercluster/1.1.0/MarkerCluster.Default.css%22/%3E%0A%3C/head%3E%0A%3Cbody%3E%20%20%20%20%0A%20%20%20%20%0A%20%20%20%20%20%20%20%20%20%20%20%20%20%20%3Ch3%20align%3D%22center%22%20style%3D%22font-size%3A16px%22%3E%3Cb%3ENon-waterfront%20Miami%20Beach%20home%20sales%20over%20%245M%3C/b%3E%3C/h3%3E%0A%20%20%20%20%20%20%20%20%20%20%20%20%20%0A%20%20%20%20%0A%20%20%20%20%20%20%20%20%20%20%20%20%20%20%20%20%3Cp%20align%3D%22center%22%20style%3D%22vertical-align%3A%20bottom%3B%20font-size%3A13px%22%3E%3Ci%3EPre-pandemic%2C%20a%20non-waterfront%20home%20sale%20in%20Miami%20Beach%20over%20%245M%20was%20unheard%20of.%3C/i%3E%3C/p%3E%0A%20%20%20%20%20%20%20%20%20%20%20%20%20%20%20%20%0A%20%20%20%20%0A%20%20%20%20%20%20%20%20%20%20%20%20%3Cdiv%20class%3D%22folium-map%22%20id%3D%22map_d35ea90a8dcb444c9231fb8decd26357%22%20%3E%3C/div%3E%0A%20%20%20%20%20%20%20%20%0A%3C/body%3E%0A%3Cscript%3E%20%20%20%20%0A%20%20%20%20%0A%20%20%20%20%20%20%20%20%20%20%20%20var%20map_d35ea90a8dcb444c9231fb8decd26357%20%3D%20L.map%28%0A%20%20%20%20%20%20%20%20%20%20%20%20%20%20%20%20%22map_d35ea90a8dcb444c9231fb8decd26357%22%2C%0A%20%20%20%20%20%20%20%20%20%20%20%20%20%20%20%20%7B%0A%20%20%20%20%20%20%20%20%20%20%20%20%20%20%20%20%20%20%20%20center%3A%20%5B25.805835533333333%2C%20-80.13495676666666%5D%2C%0A%20%20%20%20%20%20%20%20%20%20%20%20%20%20%20%20%20%20%20%20crs%3A%20L.CRS.EPSG3857%2C%0A%20%20%20%20%20%20%20%20%20%20%20%20%20%20%20%20%20%20%20%20zoom%3A%2014%2C%0A%20%20%20%20%20%20%20%20%20%20%20%20%20%20%20%20%20%20%20%20zoomControl%3A%20true%2C%0A%20%20%20%20%20%20%20%20%20%20%20%20%20%20%20%20%20%20%20%20preferCanvas%3A%20false%2C%0A%20%20%20%20%20%20%20%20%20%20%20%20%20%20%20%20%7D%0A%20%20%20%20%20%20%20%20%20%20%20%20%29%3B%0A%0A%20%20%20%20%20%20%20%20%20%20%20%20%0A%0A%20%20%20%20%20%20%20%20%0A%20%20%20%20%0A%20%20%20%20%20%20%20%20%20%20%20%20var%20tile_layer_d79e81062b7b42b3a9d39423ea91d2ec%20%3D%20L.tileLayer%28%0A%20%20%20%20%20%20%20%20%20%20%20%20%20%20%20%20%22https%3A//%7Bs%7D.tile.openstreetmap.org/%7Bz%7D/%7Bx%7D/%7By%7D.png%22%2C%0A%20%20%20%20%20%20%20%20%20%20%20%20%20%20%20%20%7B%22attribution%22%3A%20%22Data%20by%20%5Cu0026copy%3B%20%5Cu003ca%20href%3D%5C%22http%3A//openstreetmap.org%5C%22%5Cu003eOpenStreetMap%5Cu003c/a%5Cu003e%2C%20under%20%5Cu003ca%20href%3D%5C%22http%3A//www.openstreetmap.org/copyright%5C%22%5Cu003eODbL%5Cu003c/a%5Cu003e.%22%2C%20%22detectRetina%22%3A%20false%2C%20%22maxNativeZoom%22%3A%2018%2C%20%22maxZoom%22%3A%2018%2C%20%22minZoom%22%3A%200%2C%20%22noWrap%22%3A%20false%2C%20%22opacity%22%3A%201%2C%20%22subdomains%22%3A%20%22abc%22%2C%20%22tms%22%3A%20false%7D%0A%20%20%20%20%20%20%20%20%20%20%20%20%29.addTo%28map_d35ea90a8dcb444c9231fb8decd26357%29%3B%0A%20%20%20%20%20%20%20%20%0A%20%20%20%20%0A%20%20%20%20%20%20%20%20%20%20%20%20var%20marker_cluster_296bf649430d411c891f2a1edefdd9f6%20%3D%20L.markerClusterGroup%28%0A%20%20%20%20%20%20%20%20%20%20%20%20%20%20%20%20%7B%7D%0A%20%20%20%20%20%20%20%20%20%20%20%20%29%3B%0A%20%20%20%20%20%20%20%20%20%20%20%20map_d35ea90a8dcb444c9231fb8decd26357.addLayer%28marker_cluster_296bf649430d411c891f2a1edefdd9f6%29%3B%0A%20%20%20%20%20%20%20%20%0A%20%20%20%20%0A%20%20%20%20%20%20%20%20%20%20%20%20var%20marker_ef6fe9525b6f43c08399be646b4a63a3%20%3D%20L.marker%28%0A%20%20%20%20%20%20%20%20%20%20%20%20%20%20%20%20%5B25.8201721%2C%20-80.13459329999999%5D%2C%0A%20%20%20%20%20%20%20%20%20%20%20%20%20%20%20%20%7B%7D%0A%20%20%20%20%20%20%20%20%20%20%20%20%29.addTo%28marker_cluster_296bf649430d411c891f2a1edefdd9f6%29%3B%0A%20%20%20%20%20%20%20%20%0A%20%20%20%20%0A%20%20%20%20%20%20%20%20%20%20%20%20marker_ef6fe9525b6f43c08399be646b4a63a3.bindTooltip%28%0A%20%20%20%20%20%20%20%20%20%20%20%20%20%20%20%20%60%3Cdiv%3E%0A%20%20%20%20%20%20%20%20%20%20%20%20%20%20%20%20%20%20%20%20%20Sale%20Price%3A%20%3Cstrong%3E%246.3M%3C/strong%3E%3Cbr%3EBuyer%3A%20%3Cstrong%3EBryant%20Yunker%20Jr.%20and%20Nancy%20Yunker%3C/strong%3E%3Cbr%3ESeller%3A%20%3Cstrong%3EOrlandus%20Andre%20Branch%20III%3C/strong%3E%3Cbr%3EAddress%3A%20%3Cstrong%3E4535%20Nautilus%20Court%2C%20Miami%20Beach%2C%20FL%3C/strong%3E%0A%20%20%20%20%20%20%20%20%20%20%20%20%20%20%20%20%20%3C/div%3E%60%2C%0A%20%20%20%20%20%20%20%20%20%20%20%20%20%20%20%20%7B%22sticky%22%3A%20true%7D%0A%20%20%20%20%20%20%20%20%20%20%20%20%29%3B%0A%20%20%20%20%20%20%20%20%0A%20%20%20%20%0A%20%20%20%20%20%20%20%20%20%20%20%20var%20marker_40a1103b89b74f18965839d97ab07008%20%3D%20L.marker%28%0A%20%20%20%20%20%20%20%20%20%20%20%20%20%20%20%20%5B25.7976922%2C%20-80.13559649999999%5D%2C%0A%20%20%20%20%20%20%20%20%20%20%20%20%20%20%20%20%7B%7D%0A%20%20%20%20%20%20%20%20%20%20%20%20%29.addTo%28marker_cluster_296bf649430d411c891f2a1edefdd9f6%29%3B%0A%20%20%20%20%20%20%20%20%0A%20%20%20%20%0A%20%20%20%20%20%20%20%20%20%20%20%20marker_40a1103b89b74f18965839d97ab07008.bindTooltip%28%0A%20%20%20%20%20%20%20%20%20%20%20%20%20%20%20%20%60%3Cdiv%3E%0A%20%20%20%20%20%20%20%20%20%20%20%20%20%20%20%20%20%20%20%20%20Sale%20Price%3A%20%3Cstrong%3E%245M%3C/strong%3E%3Cbr%3EBuyer%3A%20%3Cstrong%3EAllon%20and%20Allison%20Bloch%3C/strong%3E%3Cbr%3ESeller%3A%20%3Cstrong%3E2035%20Meridian%20LLC%3C/strong%3E%3Cbr%3EAddress%3A%20%3Cstrong%3E2035%20North%20Meridian%20Avenue%2C%20Miami%20Beach%2C%20FL%3C/strong%3E%0A%20%20%20%20%20%20%20%20%20%20%20%20%20%20%20%20%20%3C/div%3E%60%2C%0A%20%20%20%20%20%20%20%20%20%20%20%20%20%20%20%20%7B%22sticky%22%3A%20true%7D%0A%20%20%20%20%20%20%20%20%20%20%20%20%29%3B%0A%20%20%20%20%20%20%20%20%0A%20%20%20%20%0A%20%20%20%20%20%20%20%20%20%20%20%20var%20marker_9e06ef179b734352a5dc3ef9ed00fe74%20%3D%20L.marker%28%0A%20%20%20%20%20%20%20%20%20%20%20%20%20%20%20%20%5B25.7996423%2C%20-80.1346805%5D%2C%0A%20%20%20%20%20%20%20%20%20%20%20%20%20%20%20%20%7B%7D%0A%20%20%20%20%20%20%20%20%20%20%20%20%29.addTo%28marker_cluster_296bf649430d411c891f2a1edefdd9f6%29%3B%0A%20%20%20%20%20%20%20%20%0A%20%20%20%20%0A%20%20%20%20%20%20%20%20%20%20%20%20marker_9e06ef179b734352a5dc3ef9ed00fe74.bindTooltip%28%0A%20%20%20%20%20%20%20%20%20%20%20%20%20%20%20%20%60%3Cdiv%3E%0A%20%20%20%20%20%20%20%20%20%20%20%20%20%20%20%20%20%20%20%20%20Sale%20Price%3A%20%3Cstrong%3E%245.5M%3C/strong%3E%3Cbr%3EBuyer%3A%20%3Cstrong%3EZachi%20and%20Ekaterina%20Wainstein%3C/strong%3E%3Cbr%3ESeller%3A%20%3Cstrong%3ESabal%20Development%3C/strong%3E%3Cbr%3EAddress%3A%20%3Cstrong%3E2211%20Meridian%20Avenue%2C%20Miami%20Beach%2C%20FL%3C/strong%3E%0A%20%20%20%20%20%20%20%20%20%20%20%20%20%20%20%20%20%3C/div%3E%60%2C%0A%20%20%20%20%20%20%20%20%20%20%20%20%20%20%20%20%7B%22sticky%22%3A%20true%7D%0A%20%20%20%20%20%20%20%20%20%20%20%20%29%3B%0A%20%20%20%20%20%20%20%20%0A%3C/script%3E onload=\"this.contentDocument.open();this.contentDocument.write(    decodeURIComponent(this.getAttribute('data-html')));this.contentDocument.close();\" allowfullscreen webkitallowfullscreen mozallowfullscreen></iframe></div></div>"
      ],
      "text/plain": [
       "<folium.folium.Map at 0x1c8db9a0100>"
      ]
     },
     "execution_count": 11,
     "metadata": {},
     "output_type": "execute_result"
    }
   ],
   "source": [
    "import folium\n",
    "from folium.plugins import MarkerCluster\n",
    "\n",
    "m = folium.Map(location=df[[\"lat\", \"lon\"]].mean().to_list(), zoom_start=14)\n",
    "title_html = '''\n",
    "              <h3 align=\"center\" style=\"font-size:16px\"><b>{}</b></h3>\n",
    "             '''.format('Non-waterfront Miami Beach home sales over $5M')\n",
    "\n",
    "caption_html = '''\n",
    "                <p align=\"center\" style=\"vertical-align: bottom; font-size:13px\"><i>{}</i></p>\n",
    "                '''.format('Pre-pandemic, a non-waterfront home sale in Miami Beach over $5M was unheard of.')\n",
    "\n",
    "\n",
    "\n",
    "marker_cluster = MarkerCluster().add_to(m)\n",
    "\n",
    "for i,r in df.iterrows():\n",
    "    location = (r[\"lat\"], r[\"lon\"])\n",
    "    info = (r[\"sale_price_s\"], r[\"seller\"], r['buyer'], r['address'])\n",
    "    info = list(info)\n",
    "    new_line = '<br>'\n",
    "    bold_start = '<strong>'\n",
    "    bold_end = '</strong>'\n",
    "    text = f'Sale Price: {bold_start}{info[0]}{bold_end}{new_line}Buyer: {bold_start}{info[2]}{bold_end}{new_line}Seller: {bold_start}{info[1]}{bold_end}{new_line}Address: {bold_start}{info[3]}{bold_end}'\n",
    "    folium.Marker(location=location,\n",
    "                      tooltip=text)\\\n",
    "    .add_to(marker_cluster)\n",
    "\n",
    "m.get_root().html.add_child(folium.Element(title_html))\n",
    "m.get_root().html.add_child(folium.Element(caption_html))\n",
    "m"
   ]
  },
  {
   "cell_type": "code",
   "execution_count": 12,
   "metadata": {},
   "outputs": [],
   "source": [
    "m.save('index.html')"
   ]
  },
  {
   "cell_type": "code",
   "execution_count": null,
   "metadata": {},
   "outputs": [],
   "source": []
  },
  {
   "cell_type": "code",
   "execution_count": null,
   "metadata": {},
   "outputs": [],
   "source": []
  },
  {
   "cell_type": "code",
   "execution_count": null,
   "metadata": {},
   "outputs": [],
   "source": []
  },
  {
   "cell_type": "code",
   "execution_count": null,
   "metadata": {},
   "outputs": [],
   "source": []
  },
  {
   "cell_type": "code",
   "execution_count": null,
   "metadata": {},
   "outputs": [],
   "source": []
  }
 ],
 "metadata": {
  "kernelspec": {
   "display_name": "Python 3",
   "language": "python",
   "name": "python3"
  },
  "language_info": {
   "codemirror_mode": {
    "name": "ipython",
    "version": 3
   },
   "file_extension": ".py",
   "mimetype": "text/x-python",
   "name": "python",
   "nbconvert_exporter": "python",
   "pygments_lexer": "ipython3",
   "version": "3.8.6"
  },
  "toc": {
   "base_numbering": 1,
   "nav_menu": {},
   "number_sections": true,
   "sideBar": true,
   "skip_h1_title": false,
   "title_cell": "Table of Contents",
   "title_sidebar": "Contents",
   "toc_cell": false,
   "toc_position": {},
   "toc_section_display": true,
   "toc_window_display": false
  }
 },
 "nbformat": 4,
 "nbformat_minor": 4
}
